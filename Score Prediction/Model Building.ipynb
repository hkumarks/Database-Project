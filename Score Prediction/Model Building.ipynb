{
 "cells": [
  {
   "cell_type": "code",
   "execution_count": 1,
   "metadata": {},
   "outputs": [],
   "source": [
    "import pandas as pd\n",
    "import numpy as np"
   ]
  },
  {
   "cell_type": "code",
   "execution_count": 2,
   "metadata": {},
   "outputs": [],
   "source": [
    "pd.set_option('display.max_columns',False)"
   ]
  },
  {
   "cell_type": "code",
   "execution_count": 3,
   "metadata": {},
   "outputs": [],
   "source": [
    "df=pd.read_excel('clean_IPL.xlsx')"
   ]
  },
  {
   "cell_type": "code",
   "execution_count": 4,
   "metadata": {},
   "outputs": [
    {
     "data": {
      "text/html": [
       "<div>\n",
       "<style scoped>\n",
       "    .dataframe tbody tr th:only-of-type {\n",
       "        vertical-align: middle;\n",
       "    }\n",
       "\n",
       "    .dataframe tbody tr th {\n",
       "        vertical-align: top;\n",
       "    }\n",
       "\n",
       "    .dataframe thead th {\n",
       "        text-align: right;\n",
       "    }\n",
       "</style>\n",
       "<table border=\"1\" class=\"dataframe\">\n",
       "  <thead>\n",
       "    <tr style=\"text-align: right;\">\n",
       "      <th></th>\n",
       "      <th>date</th>\n",
       "      <th>venue</th>\n",
       "      <th>runs</th>\n",
       "      <th>wickets</th>\n",
       "      <th>overs</th>\n",
       "      <th>runs_last_5</th>\n",
       "      <th>wickets_last_5</th>\n",
       "      <th>total</th>\n",
       "      <th>bat_team_Chennai Super Kings</th>\n",
       "      <th>bat_team_Delhi Daredevils</th>\n",
       "      <th>bat_team_Kings XI Punjab</th>\n",
       "      <th>bat_team_Kolkata Knight Riders</th>\n",
       "      <th>bat_team_Mumbai Indians</th>\n",
       "      <th>bat_team_Rajasthan Royals</th>\n",
       "      <th>bat_team_Royal Challengers Bangalore</th>\n",
       "      <th>bat_team_Sunrisers Hyderabad</th>\n",
       "      <th>bowl_team_Chennai Super Kings</th>\n",
       "      <th>bowl_team_Delhi Daredevils</th>\n",
       "      <th>bowl_team_Kings XI Punjab</th>\n",
       "      <th>bowl_team_Kolkata Knight Riders</th>\n",
       "      <th>bowl_team_Mumbai Indians</th>\n",
       "      <th>bowl_team_Rajasthan Royals</th>\n",
       "      <th>bowl_team_Royal Challengers Bangalore</th>\n",
       "      <th>bowl_team_Sunrisers Hyderabad</th>\n",
       "    </tr>\n",
       "  </thead>\n",
       "  <tbody>\n",
       "    <tr>\n",
       "      <th>0</th>\n",
       "      <td>2008</td>\n",
       "      <td>34</td>\n",
       "      <td>61</td>\n",
       "      <td>0</td>\n",
       "      <td>5.1</td>\n",
       "      <td>59</td>\n",
       "      <td>0</td>\n",
       "      <td>222</td>\n",
       "      <td>0</td>\n",
       "      <td>0</td>\n",
       "      <td>0</td>\n",
       "      <td>1</td>\n",
       "      <td>0</td>\n",
       "      <td>0</td>\n",
       "      <td>0</td>\n",
       "      <td>0</td>\n",
       "      <td>0</td>\n",
       "      <td>0</td>\n",
       "      <td>0</td>\n",
       "      <td>0</td>\n",
       "      <td>0</td>\n",
       "      <td>0</td>\n",
       "      <td>1</td>\n",
       "      <td>0</td>\n",
       "    </tr>\n",
       "    <tr>\n",
       "      <th>1</th>\n",
       "      <td>2008</td>\n",
       "      <td>34</td>\n",
       "      <td>61</td>\n",
       "      <td>1</td>\n",
       "      <td>5.2</td>\n",
       "      <td>59</td>\n",
       "      <td>1</td>\n",
       "      <td>222</td>\n",
       "      <td>0</td>\n",
       "      <td>0</td>\n",
       "      <td>0</td>\n",
       "      <td>1</td>\n",
       "      <td>0</td>\n",
       "      <td>0</td>\n",
       "      <td>0</td>\n",
       "      <td>0</td>\n",
       "      <td>0</td>\n",
       "      <td>0</td>\n",
       "      <td>0</td>\n",
       "      <td>0</td>\n",
       "      <td>0</td>\n",
       "      <td>0</td>\n",
       "      <td>1</td>\n",
       "      <td>0</td>\n",
       "    </tr>\n",
       "    <tr>\n",
       "      <th>2</th>\n",
       "      <td>2008</td>\n",
       "      <td>34</td>\n",
       "      <td>61</td>\n",
       "      <td>1</td>\n",
       "      <td>5.3</td>\n",
       "      <td>59</td>\n",
       "      <td>1</td>\n",
       "      <td>222</td>\n",
       "      <td>0</td>\n",
       "      <td>0</td>\n",
       "      <td>0</td>\n",
       "      <td>1</td>\n",
       "      <td>0</td>\n",
       "      <td>0</td>\n",
       "      <td>0</td>\n",
       "      <td>0</td>\n",
       "      <td>0</td>\n",
       "      <td>0</td>\n",
       "      <td>0</td>\n",
       "      <td>0</td>\n",
       "      <td>0</td>\n",
       "      <td>0</td>\n",
       "      <td>1</td>\n",
       "      <td>0</td>\n",
       "    </tr>\n",
       "    <tr>\n",
       "      <th>3</th>\n",
       "      <td>2008</td>\n",
       "      <td>34</td>\n",
       "      <td>61</td>\n",
       "      <td>1</td>\n",
       "      <td>5.4</td>\n",
       "      <td>59</td>\n",
       "      <td>1</td>\n",
       "      <td>222</td>\n",
       "      <td>0</td>\n",
       "      <td>0</td>\n",
       "      <td>0</td>\n",
       "      <td>1</td>\n",
       "      <td>0</td>\n",
       "      <td>0</td>\n",
       "      <td>0</td>\n",
       "      <td>0</td>\n",
       "      <td>0</td>\n",
       "      <td>0</td>\n",
       "      <td>0</td>\n",
       "      <td>0</td>\n",
       "      <td>0</td>\n",
       "      <td>0</td>\n",
       "      <td>1</td>\n",
       "      <td>0</td>\n",
       "    </tr>\n",
       "    <tr>\n",
       "      <th>4</th>\n",
       "      <td>2008</td>\n",
       "      <td>34</td>\n",
       "      <td>61</td>\n",
       "      <td>1</td>\n",
       "      <td>5.5</td>\n",
       "      <td>58</td>\n",
       "      <td>1</td>\n",
       "      <td>222</td>\n",
       "      <td>0</td>\n",
       "      <td>0</td>\n",
       "      <td>0</td>\n",
       "      <td>1</td>\n",
       "      <td>0</td>\n",
       "      <td>0</td>\n",
       "      <td>0</td>\n",
       "      <td>0</td>\n",
       "      <td>0</td>\n",
       "      <td>0</td>\n",
       "      <td>0</td>\n",
       "      <td>0</td>\n",
       "      <td>0</td>\n",
       "      <td>0</td>\n",
       "      <td>1</td>\n",
       "      <td>0</td>\n",
       "    </tr>\n",
       "  </tbody>\n",
       "</table>\n",
       "</div>"
      ],
      "text/plain": [
       "   date  venue  runs  ...  bowl_team_Rajasthan Royals  bowl_team_Royal Challengers Bangalore  bowl_team_Sunrisers Hyderabad\n",
       "0  2008     34    61  ...                           0                                      1                              0\n",
       "1  2008     34    61  ...                           0                                      1                              0\n",
       "2  2008     34    61  ...                           0                                      1                              0\n",
       "3  2008     34    61  ...                           0                                      1                              0\n",
       "4  2008     34    61  ...                           0                                      1                              0\n",
       "\n",
       "[5 rows x 24 columns]"
      ]
     },
     "execution_count": 4,
     "metadata": {},
     "output_type": "execute_result"
    }
   ],
   "source": [
    "df.head()"
   ]
  },
  {
   "cell_type": "code",
   "execution_count": 5,
   "metadata": {},
   "outputs": [],
   "source": [
    "X_train=df.drop('total',axis=1)[df['date']<2017]\n",
    "X_test=df.drop('total',axis=1)[df['date']==2017]\n",
    "\n",
    "y_train=df[df['date']<2017]['total']\n",
    "y_test=df[df['date']==2017]['total']"
   ]
  },
  {
   "cell_type": "code",
   "execution_count": 6,
   "metadata": {},
   "outputs": [],
   "source": [
    "X_train.drop('date',axis=1,inplace=True)\n",
    "X_test.drop('date',axis=1,inplace=True)"
   ]
  },
  {
   "cell_type": "code",
   "execution_count": 7,
   "metadata": {},
   "outputs": [
    {
     "name": "stdout",
     "output_type": "stream",
     "text": [
      "Training size= (37330, 22) and Testing size= (2778, 22)\n"
     ]
    }
   ],
   "source": [
    "print(f'Training size= {X_train.shape} and Testing size= {X_test.shape}')"
   ]
  },
  {
   "cell_type": "code",
   "execution_count": 8,
   "metadata": {},
   "outputs": [],
   "source": [
    "from sklearn.metrics import mean_squared_error"
   ]
  },
  {
   "cell_type": "code",
   "execution_count": 30,
   "metadata": {},
   "outputs": [
    {
     "name": "stdout",
     "output_type": "stream",
     "text": [
      "Root Mean Squared Error= 24.231819277857756\n"
     ]
    }
   ],
   "source": [
    "from sklearn.tree import DecisionTreeRegressor\n",
    "tree_model=DecisionTreeRegressor()\n",
    "tree_model.fit(X_train,y_train)\n",
    "pred=tree_model.predict(X_test)\n",
    "print(f'Root Mean Squared Error= {np.sqrt(mean_squared_error(pred,y_test))}')"
   ]
  },
  {
   "cell_type": "code",
   "execution_count": 31,
   "metadata": {},
   "outputs": [
    {
     "name": "stdout",
     "output_type": "stream",
     "text": [
      "Root Mean Squared Error= 19.27000425912948\n"
     ]
    }
   ],
   "source": [
    "from sklearn.ensemble import RandomForestRegressor\n",
    "forest_model=RandomForestRegressor()\n",
    "forest_model.fit(X_train,y_train)\n",
    "pred=forest_model.predict(X_test)\n",
    "print(f'Root Mean Squared Error= {np.sqrt(mean_squared_error(pred,y_test))}')"
   ]
  },
  {
   "cell_type": "code",
   "execution_count": 32,
   "metadata": {},
   "outputs": [
    {
     "name": "stdout",
     "output_type": "stream",
     "text": [
      "Root Mean Squared Error= 16.01271906335777\n"
     ]
    }
   ],
   "source": [
    "from sklearn.linear_model import LinearRegression\n",
    "linear_model=LinearRegression()\n",
    "linear_model.fit(X_train,y_train)\n",
    "pred=linear_model.predict(X_test)\n",
    "print(f'Root Mean Squared Error= {np.sqrt(mean_squared_error(pred,y_test))}')"
   ]
  },
  {
   "cell_type": "code",
   "execution_count": 33,
   "metadata": {},
   "outputs": [
    {
     "name": "stdout",
     "output_type": "stream",
     "text": [
      "Root Mean Squared Error= 19.056471337615523\n"
     ]
    }
   ],
   "source": [
    "from xgboost import XGBRegressor\n",
    "xg_model=XGBRegressor()\n",
    "xg_model.fit(X_train,y_train)\n",
    "pred=xg_model.predict(X_test)\n",
    "print(f'Root Mean Squared Error= {np.sqrt(mean_squared_error(pred,y_test))}')"
   ]
  },
  {
   "cell_type": "code",
   "execution_count": 9,
   "metadata": {},
   "outputs": [
    {
     "name": "stdout",
     "output_type": "stream",
     "text": [
      "Root Mean Squared Error= 22.135686682594855\n"
     ]
    }
   ],
   "source": [
    "from sklearn.neighbors import KNeighborsRegressor\n",
    "knn_model=KNeighborsRegressor()\n",
    "knn_model.fit(X_train,y_train)\n",
    "pred=knn_model.predict(X_test)\n",
    "print(f'Root Mean Squared Error= {np.sqrt(mean_squared_error(pred,y_test))}')"
   ]
  },
  {
   "cell_type": "code",
   "execution_count": null,
   "metadata": {},
   "outputs": [],
   "source": [
    "\n"
   ]
  },
  {
   "cell_type": "code",
   "execution_count": 22,
   "metadata": {},
   "outputs": [],
   "source": [
    "d={'OUTsurance Oval': 0,\n",
    " 'De Beers Diamond Oval': 1,\n",
    " 'Vidarbha Cricket Association Stadium, Jamtha': 2,\n",
    " 'Buffalo Park': 3,\n",
    " 'Green Park': 4,\n",
    " 'Nehru Stadium': 5,\n",
    " 'Holkar Cricket Stadium': 6,\n",
    " 'Newlands': 7,\n",
    " 'Shaheed Veer Narayan Singh International Stadium': 8,\n",
    " 'Sharjah Cricket Stadium': 9,\n",
    " 'Sheikh Zayed Stadium': 10,\n",
    " 'JSCA International Stadium Complex': 11,\n",
    " 'Barabati Stadium': 12,\n",
    " 'Dubai International Cricket Stadium': 13,\n",
    " \"St George's Park\": 14,\n",
    " 'New Wanderers Stadium': 15,\n",
    " 'Dr. Y.S. Rajasekhara Reddy ACA-VDCA Cricket Stadium': 16,\n",
    " 'Himachal Pradesh Cricket Association Stadium': 17,\n",
    " 'Saurashtra Cricket Association Stadium': 18,\n",
    " 'Punjab Cricket Association IS Bindra Stadium, Mohali': 19,\n",
    " 'SuperSport Park': 20,\n",
    " 'Brabourne Stadium': 21,\n",
    " 'Sardar Patel Stadium, Motera': 22,\n",
    " 'Kingsmead': 23,\n",
    " 'Maharashtra Cricket Association Stadium': 24,\n",
    " 'Subrata Roy Sahara Stadium': 25,\n",
    " 'Dr DY Patil Sports Academy': 26,\n",
    " 'Sawai Mansingh Stadium': 27,\n",
    " 'Punjab Cricket Association Stadium, Mohali': 28,\n",
    " 'Rajiv Gandhi International Stadium, Uppal': 29,\n",
    " 'MA Chidambaram Stadium, Chepauk': 30,\n",
    " 'Wankhede Stadium': 31,\n",
    " 'Eden Gardens': 32,\n",
    " 'Feroz Shah Kotla': 33,\n",
    " 'M Chinnaswamy Stadium': 34}"
   ]
  },
  {
   "cell_type": "code",
   "execution_count": 45,
   "metadata": {},
   "outputs": [],
   "source": [
    "def predict_score(venue,runs, wickets,overs, \n",
    "                  runs_last_5, wickets_last_5,batting_team, bowling_team):\n",
    "    temp_array= []\n",
    "    temp_array.append(d[venue])  \n",
    "    temp_array+=[runs, wickets,overs, runs_last_5, wickets_last_5]\n",
    "\n",
    "  # Batting Team\n",
    "    if batting_team == 'Chennai Super Kings':\n",
    "        temp_array = temp_array + [1,0,0,0,0,0,0,0]\n",
    "    elif batting_team == 'Delhi Daredevils':\n",
    "        temp_array = temp_array + [0,1,0,0,0,0,0,0]\n",
    "    elif batting_team == 'Kings XI Punjab':\n",
    "        temp_array = temp_array + [0,0,1,0,0,0,0,0]\n",
    "    elif batting_team == 'Kolkata Knight Riders':\n",
    "        temp_array = temp_array + [0,0,0,1,0,0,0,0]\n",
    "    elif batting_team == 'Mumbai Indians':\n",
    "        temp_array = temp_array + [0,0,0,0,1,0,0,0]\n",
    "    elif batting_team == 'Rajasthan Royals':\n",
    "        temp_array = temp_array + [0,0,0,0,0,1,0,0]\n",
    "    elif batting_team == 'Royal Challengers Bangalore':\n",
    "        temp_array = temp_array + [0,0,0,0,0,0,1,0]\n",
    "    elif batting_team == 'Sunrisers Hyderabad':\n",
    "        temp_array = temp_array + [0,0,0,0,0,0,0,1]\n",
    "\n",
    "    # Bowling Team\n",
    "    if bowling_team == 'Chennai Super Kings':\n",
    "        temp_array = temp_array + [1,0,0,0,0,0,0,0]\n",
    "    elif bowling_team == 'Delhi Daredevils':\n",
    "        temp_array = temp_array + [0,1,0,0,0,0,0,0]\n",
    "    elif bowling_team == 'Kings XI Punjab':\n",
    "        temp_array = temp_array + [0,0,1,0,0,0,0,0]\n",
    "    elif bowling_team == 'Kolkata Knight Riders':\n",
    "        temp_array = temp_array + [0,0,0,1,0,0,0,0]\n",
    "    elif bowling_team == 'Mumbai Indians':\n",
    "        temp_array = temp_array + [0,0,0,0,1,0,0,0]\n",
    "    elif bowling_team == 'Rajasthan Royals':\n",
    "        temp_array = temp_array + [0,0,0,0,0,1,0,0]\n",
    "    elif bowling_team == 'Royal Challengers Bangalore':\n",
    "        temp_array = temp_array + [0,0,0,0,0,0,1,0]\n",
    "    elif bowling_team == 'Sunrisers Hyderabad':\n",
    "        temp_array = temp_array + [0,0,0,0,0,0,0,1]\n",
    "\n",
    "    temp_array = np.array([temp_array])\n",
    "\n",
    "    return int(linear_model.predict(temp_array)[0])"
   ]
  },
  {
   "cell_type": "code",
   "execution_count": 52,
   "metadata": {},
   "outputs": [
    {
     "name": "stdout",
     "output_type": "stream",
     "text": [
      "The final predicted score (range): 184 to 199\n"
     ]
    }
   ],
   "source": [
    "final_score = predict_score(batting_team='Mumbai Indians', bowling_team='Kings XI Punjab', overs=14.1,\n",
    "                            runs=136, wickets=4, runs_last_5=50, wickets_last_5=0,venue='Wankhede Stadium')\n",
    "print(\"The final predicted score (range): {} to {}\".format(final_score-7, final_score+8))"
   ]
  },
  {
   "cell_type": "code",
   "execution_count": null,
   "metadata": {},
   "outputs": [],
   "source": []
  }
 ],
 "metadata": {
  "kernelspec": {
   "display_name": "Python 3",
   "language": "python",
   "name": "python3"
  },
  "language_info": {
   "codemirror_mode": {
    "name": "ipython",
    "version": 3
   },
   "file_extension": ".py",
   "mimetype": "text/x-python",
   "name": "python",
   "nbconvert_exporter": "python",
   "pygments_lexer": "ipython3",
   "version": "3.8.3"
  }
 },
 "nbformat": 4,
 "nbformat_minor": 4
}
