{
 "cells": [
  {
   "cell_type": "code",
   "execution_count": 1,
   "metadata": {},
   "outputs": [],
   "source": [
    "import pandas as pd\n",
    "import numpy as np\n",
    "from sklearn.linear_model import LinearRegression\n",
    "import joblib\n",
    "\n"
   ]
  },
  {
   "cell_type": "code",
   "execution_count": 2,
   "metadata": {},
   "outputs": [],
   "source": [
    "df=pd.read_excel('clean_IPL.xlsx')\n",
    "\n"
   ]
  },
  {
   "cell_type": "code",
   "execution_count": 3,
   "metadata": {},
   "outputs": [
    {
     "output_type": "execute_result",
     "data": {
      "text/plain": "   date  venue  runs  wickets  overs  runs_last_5  wickets_last_5  total  \\\n0  2008     34    61        0    5.1           59               0    222   \n1  2008     34    61        1    5.2           59               1    222   \n2  2008     34    61        1    5.3           59               1    222   \n3  2008     34    61        1    5.4           59               1    222   \n4  2008     34    61        1    5.5           58               1    222   \n\n   bat_team_Chennai Super Kings  bat_team_Delhi Daredevils  ...  \\\n0                             0                          0  ...   \n1                             0                          0  ...   \n2                             0                          0  ...   \n3                             0                          0  ...   \n4                             0                          0  ...   \n\n   bat_team_Royal Challengers Bangalore  bat_team_Sunrisers Hyderabad  \\\n0                                     0                             0   \n1                                     0                             0   \n2                                     0                             0   \n3                                     0                             0   \n4                                     0                             0   \n\n   bowl_team_Chennai Super Kings  bowl_team_Delhi Daredevils  \\\n0                              0                           0   \n1                              0                           0   \n2                              0                           0   \n3                              0                           0   \n4                              0                           0   \n\n   bowl_team_Kings XI Punjab  bowl_team_Kolkata Knight Riders  \\\n0                          0                                0   \n1                          0                                0   \n2                          0                                0   \n3                          0                                0   \n4                          0                                0   \n\n   bowl_team_Mumbai Indians  bowl_team_Rajasthan Royals  \\\n0                         0                           0   \n1                         0                           0   \n2                         0                           0   \n3                         0                           0   \n4                         0                           0   \n\n   bowl_team_Royal Challengers Bangalore  bowl_team_Sunrisers Hyderabad  \n0                                      1                              0  \n1                                      1                              0  \n2                                      1                              0  \n3                                      1                              0  \n4                                      1                              0  \n\n[5 rows x 24 columns]",
      "text/html": "<div>\n<style scoped>\n    .dataframe tbody tr th:only-of-type {\n        vertical-align: middle;\n    }\n\n    .dataframe tbody tr th {\n        vertical-align: top;\n    }\n\n    .dataframe thead th {\n        text-align: right;\n    }\n</style>\n<table border=\"1\" class=\"dataframe\">\n  <thead>\n    <tr style=\"text-align: right;\">\n      <th></th>\n      <th>date</th>\n      <th>venue</th>\n      <th>runs</th>\n      <th>wickets</th>\n      <th>overs</th>\n      <th>runs_last_5</th>\n      <th>wickets_last_5</th>\n      <th>total</th>\n      <th>bat_team_Chennai Super Kings</th>\n      <th>bat_team_Delhi Daredevils</th>\n      <th>...</th>\n      <th>bat_team_Royal Challengers Bangalore</th>\n      <th>bat_team_Sunrisers Hyderabad</th>\n      <th>bowl_team_Chennai Super Kings</th>\n      <th>bowl_team_Delhi Daredevils</th>\n      <th>bowl_team_Kings XI Punjab</th>\n      <th>bowl_team_Kolkata Knight Riders</th>\n      <th>bowl_team_Mumbai Indians</th>\n      <th>bowl_team_Rajasthan Royals</th>\n      <th>bowl_team_Royal Challengers Bangalore</th>\n      <th>bowl_team_Sunrisers Hyderabad</th>\n    </tr>\n  </thead>\n  <tbody>\n    <tr>\n      <th>0</th>\n      <td>2008</td>\n      <td>34</td>\n      <td>61</td>\n      <td>0</td>\n      <td>5.1</td>\n      <td>59</td>\n      <td>0</td>\n      <td>222</td>\n      <td>0</td>\n      <td>0</td>\n      <td>...</td>\n      <td>0</td>\n      <td>0</td>\n      <td>0</td>\n      <td>0</td>\n      <td>0</td>\n      <td>0</td>\n      <td>0</td>\n      <td>0</td>\n      <td>1</td>\n      <td>0</td>\n    </tr>\n    <tr>\n      <th>1</th>\n      <td>2008</td>\n      <td>34</td>\n      <td>61</td>\n      <td>1</td>\n      <td>5.2</td>\n      <td>59</td>\n      <td>1</td>\n      <td>222</td>\n      <td>0</td>\n      <td>0</td>\n      <td>...</td>\n      <td>0</td>\n      <td>0</td>\n      <td>0</td>\n      <td>0</td>\n      <td>0</td>\n      <td>0</td>\n      <td>0</td>\n      <td>0</td>\n      <td>1</td>\n      <td>0</td>\n    </tr>\n    <tr>\n      <th>2</th>\n      <td>2008</td>\n      <td>34</td>\n      <td>61</td>\n      <td>1</td>\n      <td>5.3</td>\n      <td>59</td>\n      <td>1</td>\n      <td>222</td>\n      <td>0</td>\n      <td>0</td>\n      <td>...</td>\n      <td>0</td>\n      <td>0</td>\n      <td>0</td>\n      <td>0</td>\n      <td>0</td>\n      <td>0</td>\n      <td>0</td>\n      <td>0</td>\n      <td>1</td>\n      <td>0</td>\n    </tr>\n    <tr>\n      <th>3</th>\n      <td>2008</td>\n      <td>34</td>\n      <td>61</td>\n      <td>1</td>\n      <td>5.4</td>\n      <td>59</td>\n      <td>1</td>\n      <td>222</td>\n      <td>0</td>\n      <td>0</td>\n      <td>...</td>\n      <td>0</td>\n      <td>0</td>\n      <td>0</td>\n      <td>0</td>\n      <td>0</td>\n      <td>0</td>\n      <td>0</td>\n      <td>0</td>\n      <td>1</td>\n      <td>0</td>\n    </tr>\n    <tr>\n      <th>4</th>\n      <td>2008</td>\n      <td>34</td>\n      <td>61</td>\n      <td>1</td>\n      <td>5.5</td>\n      <td>58</td>\n      <td>1</td>\n      <td>222</td>\n      <td>0</td>\n      <td>0</td>\n      <td>...</td>\n      <td>0</td>\n      <td>0</td>\n      <td>0</td>\n      <td>0</td>\n      <td>0</td>\n      <td>0</td>\n      <td>0</td>\n      <td>0</td>\n      <td>1</td>\n      <td>0</td>\n    </tr>\n  </tbody>\n</table>\n<p>5 rows × 24 columns</p>\n</div>"
     },
     "metadata": {},
     "execution_count": 3
    }
   ],
   "source": [
    "df.head()"
   ]
  },
  {
   "cell_type": "code",
   "execution_count": 4,
   "metadata": {},
   "outputs": [],
   "source": [
    "X=df.drop(['total','date'],axis=1)\n",
    "y=df['total']\n",
    "\n"
   ]
  },
  {
   "cell_type": "code",
   "execution_count": 5,
   "metadata": {},
   "outputs": [
    {
     "output_type": "execute_result",
     "data": {
      "text/plain": "   venue  runs  wickets  overs  runs_last_5  wickets_last_5  \\\n0     34    61        0    5.1           59               0   \n1     34    61        1    5.2           59               1   \n2     34    61        1    5.3           59               1   \n3     34    61        1    5.4           59               1   \n4     34    61        1    5.5           58               1   \n\n   bat_team_Chennai Super Kings  bat_team_Delhi Daredevils  \\\n0                             0                          0   \n1                             0                          0   \n2                             0                          0   \n3                             0                          0   \n4                             0                          0   \n\n   bat_team_Kings XI Punjab  bat_team_Kolkata Knight Riders  ...  \\\n0                         0                               1  ...   \n1                         0                               1  ...   \n2                         0                               1  ...   \n3                         0                               1  ...   \n4                         0                               1  ...   \n\n   bat_team_Royal Challengers Bangalore  bat_team_Sunrisers Hyderabad  \\\n0                                     0                             0   \n1                                     0                             0   \n2                                     0                             0   \n3                                     0                             0   \n4                                     0                             0   \n\n   bowl_team_Chennai Super Kings  bowl_team_Delhi Daredevils  \\\n0                              0                           0   \n1                              0                           0   \n2                              0                           0   \n3                              0                           0   \n4                              0                           0   \n\n   bowl_team_Kings XI Punjab  bowl_team_Kolkata Knight Riders  \\\n0                          0                                0   \n1                          0                                0   \n2                          0                                0   \n3                          0                                0   \n4                          0                                0   \n\n   bowl_team_Mumbai Indians  bowl_team_Rajasthan Royals  \\\n0                         0                           0   \n1                         0                           0   \n2                         0                           0   \n3                         0                           0   \n4                         0                           0   \n\n   bowl_team_Royal Challengers Bangalore  bowl_team_Sunrisers Hyderabad  \n0                                      1                              0  \n1                                      1                              0  \n2                                      1                              0  \n3                                      1                              0  \n4                                      1                              0  \n\n[5 rows x 22 columns]",
      "text/html": "<div>\n<style scoped>\n    .dataframe tbody tr th:only-of-type {\n        vertical-align: middle;\n    }\n\n    .dataframe tbody tr th {\n        vertical-align: top;\n    }\n\n    .dataframe thead th {\n        text-align: right;\n    }\n</style>\n<table border=\"1\" class=\"dataframe\">\n  <thead>\n    <tr style=\"text-align: right;\">\n      <th></th>\n      <th>venue</th>\n      <th>runs</th>\n      <th>wickets</th>\n      <th>overs</th>\n      <th>runs_last_5</th>\n      <th>wickets_last_5</th>\n      <th>bat_team_Chennai Super Kings</th>\n      <th>bat_team_Delhi Daredevils</th>\n      <th>bat_team_Kings XI Punjab</th>\n      <th>bat_team_Kolkata Knight Riders</th>\n      <th>...</th>\n      <th>bat_team_Royal Challengers Bangalore</th>\n      <th>bat_team_Sunrisers Hyderabad</th>\n      <th>bowl_team_Chennai Super Kings</th>\n      <th>bowl_team_Delhi Daredevils</th>\n      <th>bowl_team_Kings XI Punjab</th>\n      <th>bowl_team_Kolkata Knight Riders</th>\n      <th>bowl_team_Mumbai Indians</th>\n      <th>bowl_team_Rajasthan Royals</th>\n      <th>bowl_team_Royal Challengers Bangalore</th>\n      <th>bowl_team_Sunrisers Hyderabad</th>\n    </tr>\n  </thead>\n  <tbody>\n    <tr>\n      <th>0</th>\n      <td>34</td>\n      <td>61</td>\n      <td>0</td>\n      <td>5.1</td>\n      <td>59</td>\n      <td>0</td>\n      <td>0</td>\n      <td>0</td>\n      <td>0</td>\n      <td>1</td>\n      <td>...</td>\n      <td>0</td>\n      <td>0</td>\n      <td>0</td>\n      <td>0</td>\n      <td>0</td>\n      <td>0</td>\n      <td>0</td>\n      <td>0</td>\n      <td>1</td>\n      <td>0</td>\n    </tr>\n    <tr>\n      <th>1</th>\n      <td>34</td>\n      <td>61</td>\n      <td>1</td>\n      <td>5.2</td>\n      <td>59</td>\n      <td>1</td>\n      <td>0</td>\n      <td>0</td>\n      <td>0</td>\n      <td>1</td>\n      <td>...</td>\n      <td>0</td>\n      <td>0</td>\n      <td>0</td>\n      <td>0</td>\n      <td>0</td>\n      <td>0</td>\n      <td>0</td>\n      <td>0</td>\n      <td>1</td>\n      <td>0</td>\n    </tr>\n    <tr>\n      <th>2</th>\n      <td>34</td>\n      <td>61</td>\n      <td>1</td>\n      <td>5.3</td>\n      <td>59</td>\n      <td>1</td>\n      <td>0</td>\n      <td>0</td>\n      <td>0</td>\n      <td>1</td>\n      <td>...</td>\n      <td>0</td>\n      <td>0</td>\n      <td>0</td>\n      <td>0</td>\n      <td>0</td>\n      <td>0</td>\n      <td>0</td>\n      <td>0</td>\n      <td>1</td>\n      <td>0</td>\n    </tr>\n    <tr>\n      <th>3</th>\n      <td>34</td>\n      <td>61</td>\n      <td>1</td>\n      <td>5.4</td>\n      <td>59</td>\n      <td>1</td>\n      <td>0</td>\n      <td>0</td>\n      <td>0</td>\n      <td>1</td>\n      <td>...</td>\n      <td>0</td>\n      <td>0</td>\n      <td>0</td>\n      <td>0</td>\n      <td>0</td>\n      <td>0</td>\n      <td>0</td>\n      <td>0</td>\n      <td>1</td>\n      <td>0</td>\n    </tr>\n    <tr>\n      <th>4</th>\n      <td>34</td>\n      <td>61</td>\n      <td>1</td>\n      <td>5.5</td>\n      <td>58</td>\n      <td>1</td>\n      <td>0</td>\n      <td>0</td>\n      <td>0</td>\n      <td>1</td>\n      <td>...</td>\n      <td>0</td>\n      <td>0</td>\n      <td>0</td>\n      <td>0</td>\n      <td>0</td>\n      <td>0</td>\n      <td>0</td>\n      <td>0</td>\n      <td>1</td>\n      <td>0</td>\n    </tr>\n  </tbody>\n</table>\n<p>5 rows × 22 columns</p>\n</div>"
     },
     "metadata": {},
     "execution_count": 5
    }
   ],
   "source": [
    "X.head()"
   ]
  },
  {
   "cell_type": "code",
   "execution_count": 6,
   "metadata": {},
   "outputs": [
    {
     "output_type": "execute_result",
     "data": {
      "text/plain": "0    222\n1    222\n2    222\n3    222\n4    222\nName: total, dtype: int64"
     },
     "metadata": {},
     "execution_count": 6
    }
   ],
   "source": [
    "y.head()"
   ]
  },
  {
   "cell_type": "code",
   "execution_count": 7,
   "metadata": {},
   "outputs": [],
   "source": [
    "model=LinearRegression()\n"
   ]
  },
  {
   "cell_type": "code",
   "execution_count": 8,
   "metadata": {},
   "outputs": [
    {
     "output_type": "execute_result",
     "data": {
      "text/plain": "LinearRegression()"
     },
     "metadata": {},
     "execution_count": 8
    }
   ],
   "source": [
    "model.fit(X,y)"
   ]
  },
  {
   "cell_type": "code",
   "execution_count": 9,
   "metadata": {},
   "outputs": [
    {
     "output_type": "execute_result",
     "data": {
      "text/plain": "['linear_model.pkl']"
     },
     "metadata": {},
     "execution_count": 9
    }
   ],
   "source": [
    "joblib.dump(model,'linear_model.pkl')"
   ]
  },
  {
   "cell_type": "code",
   "execution_count": null,
   "metadata": {},
   "outputs": [],
   "source": []
  }
 ],
 "metadata": {
  "language_info": {
   "codemirror_mode": {
    "name": "ipython",
    "version": 3
   },
   "file_extension": ".py",
   "mimetype": "text/x-python",
   "name": "python",
   "nbconvert_exporter": "python",
   "pygments_lexer": "ipython3",
   "version": "3.8.3-final"
  },
  "orig_nbformat": 2,
  "kernelspec": {
   "name": "python38364bite0f8ecdafed847e291d49c26b033d9f9",
   "display_name": "Python 3.8.3 64-bit"
  }
 },
 "nbformat": 4,
 "nbformat_minor": 2
}